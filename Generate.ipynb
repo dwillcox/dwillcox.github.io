{
 "cells": [
  {
   "cell_type": "code",
   "execution_count": 1,
   "id": "8873da0f-96a6-4a4c-a125-de310ec7ac51",
   "metadata": {
    "tags": []
   },
   "outputs": [],
   "source": [
    "import os\n",
    "import glob\n",
    "import yaml\n",
    "from jinja2 import Environment, FileSystemLoader"
   ]
  },
  {
   "cell_type": "code",
   "execution_count": 2,
   "id": "c925b316-2301-421c-b61e-08c240c0c932",
   "metadata": {
    "tags": []
   },
   "outputs": [],
   "source": [
    "# Load YAML configuration data\n",
    "config = {}\n",
    "config_dir = os.path.join(os.getcwd(), \"source/config\")\n",
    "config_files = glob.glob(os.path.join(config_dir, \"*.yaml\"))\n",
    "\n",
    "for f in config_files:\n",
    "    file = open(f, \"r\")\n",
    "    config = config | yaml.safe_load(file)"
   ]
  },
  {
   "cell_type": "code",
   "execution_count": 3,
   "id": "5a25582f-2766-4881-a337-5ff6349b46d3",
   "metadata": {
    "tags": []
   },
   "outputs": [
    {
     "data": {
      "text/plain": [
       "{'navigation': {'author': 'Don Willcox',\n",
       "  'home': 'index.html',\n",
       "  'pages': [{'name': 'Home', 'link': 'index.html', 'pages': None},\n",
       "   {'name': 'Research Gallery',\n",
       "    'link': 'research.html',\n",
       "    'pages': [{'name': 'Code Generation For Solving PDEs',\n",
       "      'link': 'codegen.html',\n",
       "      'pages': None},\n",
       "     {'name': 'Nuclear Astrophysics', 'link': 'nucastro.html', 'pages': None},\n",
       "     {'name': 'Neutrino Quantum Kinetics',\n",
       "      'link': 'neutrinos.html',\n",
       "      'pages': None},\n",
       "     {'name': 'Machine Learning For Astrophysics',\n",
       "      'link': 'ml_astro.html',\n",
       "      'pages': None}]},\n",
       "   {'name': 'CV', 'link': 'cv.html', 'pages': None},\n",
       "   {'name': 'Publications', 'link': 'publications.html', 'pages': None}]},\n",
       " 'contacts': [{'name': 'Email',\n",
       "   'link': 'mailto:eugene.willcox@gmail.com',\n",
       "   'class': 'icon solid alt fa-envelope'},\n",
       "  {'name': 'GitHub',\n",
       "   'link': 'https://github.com/dwillcox',\n",
       "   'class': 'icon brands alt fa-github'},\n",
       "  {'name': 'LinkedIn',\n",
       "   'link': 'https://www.linkedin.com/in/donaldewillcox',\n",
       "   'class': 'icon brands alt fa-linkedin-in'}],\n",
       " 'scripts': [{'link': 'assets/js/jquery.min.js'},\n",
       "  {'link': 'assets/js/jquery.scrolly.min.js'},\n",
       "  {'link': 'assets/js/jquery.dropotron.min.js'},\n",
       "  {'link': 'assets/js/jquery.scrollex.min.js'},\n",
       "  {'link': 'assets/js/browser.min.js'},\n",
       "  {'link': 'assets/js/breakpoints.min.js'},\n",
       "  {'link': 'assets/js/util.js'},\n",
       "  {'link': 'assets/js/main.js'}]}"
      ]
     },
     "execution_count": 3,
     "metadata": {},
     "output_type": "execute_result"
    }
   ],
   "source": [
    "config"
   ]
  },
  {
   "cell_type": "code",
   "execution_count": 4,
   "id": "1fb32f49-ebee-45f5-85fe-b453add5561a",
   "metadata": {
    "tags": []
   },
   "outputs": [],
   "source": [
    "# We will need a class to hold info for each markdown file\n",
    "class MarkDownFile:\n",
    "    def __init__(self, filename):\n",
    "        \"\"\"\n",
    "        Initialize class data from filename.\n",
    "        \n",
    "        Each markdown file gets to declare local\n",
    "        YAML data in addition to any global config.\n",
    "        \"\"\"\n",
    "        self.yaml = {}\n",
    "        self.content = \"\"\n",
    "        \n",
    "        # get the file's basename (no directories)\n",
    "        self.basename = os.path.basename(filename)\n",
    "        \n",
    "        # strip the .md extension\n",
    "        self.name, extension = os.path.splitext(self.basename)\n",
    "        assert extension == \".md\", f\"Error: file {filename} lacks a .md extension!\"\n",
    "        \n",
    "        # make the html target file basename\n",
    "        self.htmlname = f\"{self.name}.html\"\n",
    "        \n",
    "        self.read(filename)\n",
    "        self.sanity()\n",
    "        self.package()\n",
    "    \n",
    "    def read(self, filename):\n",
    "        \"\"\"\n",
    "        open the filename specified and read data\n",
    "        allowing for YAML definitions delimited by a\n",
    "        #yaml pragma in a code block like so:\n",
    "        \n",
    "        ```#yaml\n",
    "        [yaml definitions here]\n",
    "        ```\n",
    "        \n",
    "        Note this is distinct from a code block we consider\n",
    "        simply part of the markdown like so:\n",
    "        \n",
    "        ```yaml\n",
    "        [example yaml syntax here]\n",
    "        ```\n",
    "        \n",
    "        In the second case, because we do not find the pragma,\n",
    "        we do not interpret the code block to contain\n",
    "        YAML definitions for the preprocessor.\n",
    "        \"\"\"\n",
    "        yaml_str = \"\"\n",
    "        reading_yaml = False\n",
    "        \n",
    "        file = open(filename, \"r\")\n",
    "        for line in file:\n",
    "            if not reading_yaml and line.strip() == \"```#yaml\":\n",
    "                reading_yaml = True\n",
    "            elif reading_yaml and line.strip() == \"```\":\n",
    "                reading_yaml = False\n",
    "            elif reading_yaml:\n",
    "                yaml_str = yaml_str + line\n",
    "            else:\n",
    "                # we are simply reading markdown\n",
    "                self.content = self.content + line\n",
    "        file.close()\n",
    "        \n",
    "        self.yaml = yaml.safe_load(yaml_str)\n",
    "        # print(f\"File {self.basename} has the following YAML content:\")\n",
    "        # print(self.yaml)\n",
    "        \n",
    "    def sanity(self):\n",
    "        \"\"\"\n",
    "        Perform input sanity-checking to verify the markdown file\n",
    "        specifies everything we will later need.\n",
    "        \"\"\"\n",
    "        assert self.yaml[\"template\"], f\"Error: Markdown file {self.basename} did not specify a Jinja2 template in its YAML data.\"\n",
    "        \n",
    "    def package(self):\n",
    "        \"\"\"\n",
    "        Store the markdown within the local YAML dictionary as\n",
    "        self.yaml[\"content\"].\n",
    "        \"\"\"\n",
    "        self.yaml[\"content\"] = self.content"
   ]
  },
  {
   "cell_type": "code",
   "execution_count": 5,
   "id": "88166190-c199-46ab-841e-700647c8d5e7",
   "metadata": {
    "tags": []
   },
   "outputs": [
    {
     "name": "stdout",
     "output_type": "stream",
     "text": [
      "File ml_astro.md has the following YAML content:\n",
      "{'title': 'Machine Learning For Astrophysics', 'author': 'Don Willcox', 'template': 'research.j2', 'encoding': 'utf-8', 'enable_jinja': True}\n",
      "File cv.md has the following YAML content:\n",
      "{'title': 'Curriculum Vitae', 'author': 'Don Willcox', 'template': 'cv.j2', 'encoding': 'utf-8', 'enable_jinja': True}\n",
      "File index.md has the following YAML content:\n",
      "{'title': 'Don Willcox Homepage', 'author': 'Don Willcox', 'template': 'index.j2', 'encoding': 'utf-8', 'enable_jinja': True}\n",
      "File research.md has the following YAML content:\n",
      "{'title': 'Research Gallery', 'author': 'Don Willcox', 'template': 'research.j2', 'encoding': 'utf-8', 'enable_jinja': True}\n",
      "File nucastro.md has the following YAML content:\n",
      "{'title': 'Nuclear Astrophysics', 'author': 'Don Willcox', 'template': 'research.j2', 'encoding': 'utf-8', 'enable_jinja': True}\n",
      "File publications.md has the following YAML content:\n",
      "{'title': 'Publications', 'author': 'Don Willcox', 'template': 'publications.j2', 'encoding': 'utf-8', 'enable_jinja': True}\n",
      "File neutrinos.md has the following YAML content:\n",
      "{'title': 'Neutrino Quantum Kinetics', 'author': 'Don Willcox', 'template': 'research.j2', 'encoding': 'utf-8', 'enable_jinja': True}\n",
      "File codegen.md has the following YAML content:\n",
      "{'title': 'Code Generation For Solving PDEs', 'author': 'Don Willcox', 'template': 'research.j2', 'encoding': 'utf-8', 'enable_jinja': True}\n"
     ]
    }
   ],
   "source": [
    "# Load all markdown files to process\n",
    "md_dir = os.path.join(os.getcwd(), \"source/markdown\")\n",
    "md_files = glob.glob(os.path.join(md_dir, \"*.md\"))\n",
    "\n",
    "markdown = [MarkDownFile(mdf) for mdf in md_files]"
   ]
  },
  {
   "cell_type": "code",
   "execution_count": 7,
   "id": "47af33a6-6d05-42e8-b001-d155a98fa91d",
   "metadata": {
    "tags": []
   },
   "outputs": [],
   "source": [
    "# Iterate over markdown files and generate HTML using Jinja2\n",
    "for md in markdown:\n",
    "    j2env = Environment(loader=FileSystemLoader(\"source/templates\"))\n",
    "    j2tmp = j2env.get_template(md.yaml[\"template\"])\n",
    "    render_yaml = config | md.yaml\n",
    "    j2out = j2tmp.render(render_yaml)\n",
    "    output_file = os.path.join(os.getcwd(), md.htmlname)\n",
    "    with open(output_file, \"w\") as file:\n",
    "        file.write(j2out)"
   ]
  },
  {
   "cell_type": "code",
   "execution_count": null,
   "id": "fdb4eb14-ea65-4e94-a800-8dcf28a5b7f3",
   "metadata": {},
   "outputs": [],
   "source": []
  }
 ],
 "metadata": {
  "kernelspec": {
   "display_name": "Python 3 (ipykernel)",
   "language": "python",
   "name": "python3"
  },
  "language_info": {
   "codemirror_mode": {
    "name": "ipython",
    "version": 3
   },
   "file_extension": ".py",
   "mimetype": "text/x-python",
   "name": "python",
   "nbconvert_exporter": "python",
   "pygments_lexer": "ipython3",
   "version": "3.10.12"
  }
 },
 "nbformat": 4,
 "nbformat_minor": 5
}
